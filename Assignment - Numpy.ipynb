{
 "cells": [
  {
   "cell_type": "markdown",
   "metadata": {},
   "source": [
    "## Assignment Numpy\n",
    "#### submitted by Rishabh Bisht"
   ]
  },
  {
   "cell_type": "markdown",
   "metadata": {},
   "source": [
    "##### Problem Statement 1:\n",
    "Write a function so that the columns of the output matrix are powers of the input vector. \n",
    " \n",
    "The order of the powers is determined by the increasing boolean argument. Specifically, when increasing is False, the i-th output column is the input vector raised element-wise to the power of N - i - 1. \n",
    " \n",
    " \n",
    "HINT: Such a matrix with a geometric progression in each row is named for AlexandreTheophile Vandermonde. \n",
    " \n",
    "##### Problem Statement 2: \n",
    " \n",
    "Given a sequence of n values x1, x2, ..., xn and a window size k>0, the k-th moving average of the given sequence is defined as follows: \n",
    " \n",
    "The moving average sequence has n-k+1 elements as shown below. \n",
    " \n",
    "The moving averages with k=4 of a ten-value sequence (n=10) is shown below \n",
    " \n",
    "i 1  2  3  4  5  6  7  8  9 10 \n",
    "\n",
    "===== == == == == == == == == == == \n",
    "\n",
    "Input 10 20 30 40 50 60 70 80 90 100  \n",
    "y1    25 = (10+20+30+40)/4  \n",
    "y2    35 = (20+30+40+50)/4  \n",
    "y3    45 = (30+40+50+60)/4  \n",
    "y4    55 = (40+50+60+70)/4 \n",
    "\n",
    "y5    65 = (50+60+70+80)/4 \n",
    "\n",
    "y6    75 = (60+70+80+90)/4 \n",
    "\n",
    "y7    85 = (70+80+90+100)/4 \n",
    " \n",
    " \n",
    "Thus, the moving average sequence has n-k+1=10-4+1=7 values. \n",
    "\n",
    "Question: Write a function to find moving average in an array over a window:          \n",
    "Test it over [3, 5, 7, 2, 8, 10, 11, 65, 72, 81, 99, 100, 150] and window of 3. "
   ]
  },
  {
   "cell_type": "code",
   "execution_count": 4,
   "metadata": {},
   "outputs": [
    {
     "name": "stdout",
     "output_type": "stream",
     "text": [
      "Enter a multiple value: 2 3 4 5\n"
     ]
    },
    {
     "data": {
      "text/plain": [
       "matrix([[  1,   2,   4,   8],\n",
       "        [  1,   3,   9,  27],\n",
       "        [  1,   4,  16,  64],\n",
       "        [  1,   5,  25, 125]])"
      ]
     },
     "execution_count": 4,
     "metadata": {},
     "output_type": "execute_result"
    }
   ],
   "source": [
    "import numpy as np\n",
    "\n",
    "# function\n",
    "def Vandermonde(x):\n",
    "    temp = np.asarray(x)\n",
    "    n = len(temp)\n",
    "    result = np.ones((n,n), dtype=int)\n",
    "    for i in range(n):\n",
    "        result[i] = result[i]*pow(temp,i)\n",
    "\n",
    "    arr = np.matrix(result)\n",
    "    arr = arr.T\n",
    "    return arr\n",
    "\n",
    "# main line\n",
    "var = list(map(int, input(\"Enter a multiple value: \").split())) \n",
    "Vandermonde(var)\n",
    "    "
   ]
  },
  {
   "cell_type": "code",
   "execution_count": 3,
   "metadata": {},
   "outputs": [
    {
     "data": {
      "text/plain": [
       "[5.0, 4.67, 5.67, 6.67, 9.67, 28.67, 49.33, 72.67, 84.0, 93.33, 116.33]"
      ]
     },
     "execution_count": 3,
     "metadata": {},
     "output_type": "execute_result"
    }
   ],
   "source": [
    "import numpy as np\n",
    "\n",
    "#function\n",
    "def MovingAvg(x, n):\n",
    "    f = []\n",
    "    arr = np.array(x)\n",
    "    k = n\n",
    "    check = len(arr)-k+1\n",
    "    for i in range(check):\n",
    "        f.append(round(sum(arr[i:i+k])/k,2))\n",
    "    return f\n",
    "            \n",
    "#main\n",
    "\n",
    "inpo = [3, 5, 7, 2, 8, 10, 11, 65, 72, 81, 99, 100, 150]\n",
    "k  = 3\n",
    "\n",
    "MovingAvg(inpo, k)\n"
   ]
  }
 ],
 "metadata": {
  "kernelspec": {
   "display_name": "Python 3",
   "language": "python",
   "name": "python3"
  },
  "language_info": {
   "codemirror_mode": {
    "name": "ipython",
    "version": 3
   },
   "file_extension": ".py",
   "mimetype": "text/x-python",
   "name": "python",
   "nbconvert_exporter": "python",
   "pygments_lexer": "ipython3",
   "version": "3.7.6"
  }
 },
 "nbformat": 4,
 "nbformat_minor": 4
}
