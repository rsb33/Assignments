{
 "cells": [
  {
   "cell_type": "markdown",
   "metadata": {},
   "source": [
    "## Assignment 1\n",
    "#### submitted by Rishabh Bisht"
   ]
  },
  {
   "cell_type": "markdown",
   "metadata": {},
   "source": [
    "1. Write a program which will find all such numbers which are divisible by 7 but are not a\n",
    "multiple of 5, between 2000 and 3200 (both included). The numbers obtained should be printed in a comma-separated sequence on a single line."
   ]
  },
  {
   "cell_type": "code",
   "execution_count": 35,
   "metadata": {},
   "outputs": [
    {
     "name": "stdout",
     "output_type": "stream",
     "text": [
      "2002,2009,2016,20232030,2037,2044,2051,20582065,2072,2079,2086,20932100,2107,2114,2121,21282135,2142,2149,2156,21632170,2177,2184,2191,21982205,2212,2219,2226,22332240,2247,2254,2261,22682275,2282,2289,2296,23032310,2317,2324,2331,23382345,2352,2359,2366,23732380,2387,2394,2401,24082415,2422,2429,2436,24432450,2457,2464,2471,24782485,2492,2499,2506,25132520,2527,2534,2541,25482555,2562,2569,2576,25832590,2597,2604,2611,26182625,2632,2639,2646,26532660,2667,2674,2681,26882695,2702,2709,2716,27232730,2737,2744,2751,27582765,2772,2779,2786,27932800,2807,2814,2821,28282835,2842,2849,2856,28632870,2877,2884,2891,28982905,2912,2919,2926,29332940,2947,2954,2961,29682975,2982,2989,2996,30033010,3017,3024,3031,30383045,3052,3059,3066,30733080,3087,3094,3101,31083115,3122,3129,3136,31433150,3157,3164,3171,31783185,3192,3199"
     ]
    }
   ],
   "source": [
    "flag = 0\n",
    "for i in range(2000,3201):\n",
    "    if i%7==0:\n",
    "        if i%5!=0 and flag==1 :\n",
    "            print(\",\",end=\"\")\n",
    "            print(i, end= \"\")\n",
    "        else: \n",
    "            flag = 1\n",
    "            print(i, end= \"\")\n",
    "            "
   ]
  },
  {
   "cell_type": "markdown",
   "metadata": {},
   "source": [
    "2. Write a Python program to accept the user's first and last name and then getting them\n",
    "printed in the the reverse order with a space between first name and last name.\n"
   ]
  },
  {
   "cell_type": "code",
   "execution_count": 1,
   "metadata": {},
   "outputs": [
    {
     "name": "stdout",
     "output_type": "stream",
     "text": [
      "Enter Your Name: Rishabh Bisht\n"
     ]
    },
    {
     "data": {
      "text/plain": [
       "'Bisht Rishabh'"
      ]
     },
     "execution_count": 1,
     "metadata": {},
     "output_type": "execute_result"
    }
   ],
   "source": [
    "bruh = input(\"Enter Your Name: \").split()\n",
    "bruh = bruh[::-1]\n",
    "result = \" \".join(bruh) \n",
    "result"
   ]
  },
  {
   "cell_type": "markdown",
   "metadata": {},
   "source": [
    "3. Write a Python program to find the volume of a sphere with diameter 12 cm.\n",
    "Formula: V=4/3 * π * r 3"
   ]
  },
  {
   "cell_type": "code",
   "execution_count": 36,
   "metadata": {},
   "outputs": [
    {
     "data": {
      "text/plain": [
       "904.7786842338603"
      ]
     },
     "execution_count": 36,
     "metadata": {},
     "output_type": "execute_result"
    }
   ],
   "source": [
    "import math\n",
    "d = 12\n",
    "r=d/2\n",
    "final = 4/3*math.pi*(r**3)\n",
    "final"
   ]
  },
  {
   "cell_type": "code",
   "execution_count": null,
   "metadata": {},
   "outputs": [],
   "source": []
  }
 ],
 "metadata": {
  "kernelspec": {
   "display_name": "Python 3",
   "language": "python",
   "name": "python3"
  },
  "language_info": {
   "codemirror_mode": {
    "name": "ipython",
    "version": 3
   },
   "file_extension": ".py",
   "mimetype": "text/x-python",
   "name": "python",
   "nbconvert_exporter": "python",
   "pygments_lexer": "ipython3",
   "version": "3.7.3"
  }
 },
 "nbformat": 4,
 "nbformat_minor": 2
}
