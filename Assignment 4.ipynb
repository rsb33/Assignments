{
 "cells": [
  {
   "cell_type": "markdown",
   "metadata": {},
   "source": [
    "## Assignment 4\n",
    "#### submitted by Rishabh Bisht"
   ]
  },
  {
   "cell_type": "markdown",
   "metadata": {},
   "source": [
    "1.1 Write a Python Program(with class concepts) to find the area of the triangle using the below formula.\n",
    "area = (s*(s-a)*(s-b)*(s-c)) ** 0.5\n",
    "Function to take the length of the sides of triangle from user should be defined in the parent class and function to calculate the area should be defined in subclass."
   ]
  },
  {
   "cell_type": "code",
   "execution_count": null,
   "metadata": {},
   "outputs": [],
   "source": [
    "class Sides:\n",
    "    def __init__(self):\n",
    "        self.s1,self.s2,self.s3 = map(float,input(\"Give Sides = \").split())\n",
    "        self.peri= (self.s1+self.s2+self.s3)\n",
    "\n",
    "class Triangle(Sides):    \n",
    "    def __init__(self,*args):\n",
    "        super(Triangle,self).__init__(*args)\n",
    "        \n",
    "    def area(self):\n",
    "        temp = self.peri/2\n",
    "        result = (temp * (temp-self.s1) * (temp-self.s2) * (temp-self.s3)) ** 0.5\n",
    "        if result == 0.0 or type(result) == complex:\n",
    "            print(\"Wrong set of Dimensions\") #Wrong set of Dimensions\n",
    "        else: print(\"Your Area is = \", result)\n",
    "    \n",
    "try:\n",
    "    obj = Triangle()\n",
    "    obj.area()\n",
    "except Exception as e:\n",
    "        print(\"Error is : \",e)"
   ]
  },
  {
   "cell_type": "markdown",
   "metadata": {},
   "source": [
    "1.2 Write a function filter_long_words() that takes a list of words and an integer n and returns the list of words that are longer than n."
   ]
  },
  {
   "cell_type": "code",
   "execution_count": null,
   "metadata": {},
   "outputs": [],
   "source": [
    "def filter_long_words(dabba, size):\n",
    "    x = [i for i in dabba if len(i)>size]\n",
    "    return x\n",
    "    \n",
    "list = [\"Kya\", \"Ho\", \"Raha\", \"Haiii\", \"Ye\", \"Bhaiiii\"]\n",
    "n = 3\n",
    "filter_long_words(list, n)"
   ]
  },
  {
   "cell_type": "markdown",
   "metadata": {},
   "source": [
    "2.1 Write a Python program using function concept that maps list of words into a list of integers representing the lengths of the corresponding words.\n",
    "Hint: If a list [ ab,cde,erty] is passed on to the python function output should come as [2,3,4] Here 2,3 and 4 are the lengths of the words in the list."
   ]
  },
  {
   "cell_type": "code",
   "execution_count": 2,
   "metadata": {},
   "outputs": [
    {
     "data": {
      "text/plain": [
       "[8, 4, 6, 2, 3, 4]"
      ]
     },
     "execution_count": 2,
     "metadata": {},
     "output_type": "execute_result"
    }
   ],
   "source": [
    "def fun(gg):\n",
    "#     x = [len(i) for i in list]\n",
    "     x= list(map(lambda y: len(y), gg))\n",
    "     return x\n",
    "    \n",
    "key = [ \"abcdefgh\", \"abcd\", \"abcdef\",\"ab\",\"cde\",\"erty\"]\n",
    "fun(key)"
   ]
  },
  {
   "cell_type": "markdown",
   "metadata": {},
   "source": [
    "2.2 Write a Python function which takes a character (i.e. a string of length 1) and returns True if it is a vowel, False otherwise."
   ]
  },
  {
   "cell_type": "code",
   "execution_count": null,
   "metadata": {},
   "outputs": [],
   "source": [
    "def fun(c):\n",
    "    list = ['a', 'e', 'i', 'o', 'u']\n",
    "    if i in list: return True\n",
    "#     print(any(True if c==test else False for test in list))\n",
    "        \n",
    "var = input(\"Give one character : \")        \n",
    "fun(var)"
   ]
  }
 ],
 "metadata": {
  "kernelspec": {
   "display_name": "Python 3",
   "language": "python",
   "name": "python3"
  },
  "language_info": {
   "codemirror_mode": {
    "name": "ipython",
    "version": 3
   },
   "file_extension": ".py",
   "mimetype": "text/x-python",
   "name": "python",
   "nbconvert_exporter": "python",
   "pygments_lexer": "ipython3",
   "version": "3.7.3"
  }
 },
 "nbformat": 4,
 "nbformat_minor": 2
}
